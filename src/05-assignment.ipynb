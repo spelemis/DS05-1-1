{
 "cells": [
  {
   "cell_type": "markdown",
   "metadata": {},
   "source": [
    "# Задание"
   ]
  },
  {
   "cell_type": "markdown",
   "metadata": {},
   "source": [
    "Данные по клиентам заархивированы в формате zip - сразу их разархивируем. Для этого нам понадобится библиотека zipfile."
   ]
  },
  {
   "cell_type": "code",
   "execution_count": 9,
   "metadata": {},
   "outputs": [],
   "source": [
    "import zipfile\n",
    "\n",
    "import pandas as pd"
   ]
  },
  {
   "cell_type": "code",
   "execution_count": 10,
   "metadata": {},
   "outputs": [],
   "source": [
    "with zipfile.ZipFile('../datasets/client_info.csv.zip', 'r') as zip_ref:\n",
    "    zip_ref.extractall('../datasets')"
   ]
  },
  {
   "cell_type": "code",
   "execution_count": 11,
   "metadata": {
    "id": "dxhM1MLjPc31"
   },
   "outputs": [],
   "source": [
    "df = pd.read_csv('../datasets/client_info.csv')"
   ]
  },
  {
   "cell_type": "code",
   "execution_count": 12,
   "metadata": {},
   "outputs": [
    {
     "data": {
      "text/html": [
       "<div>\n",
       "<style scoped>\n",
       "    .dataframe tbody tr th:only-of-type {\n",
       "        vertical-align: middle;\n",
       "    }\n",
       "\n",
       "    .dataframe tbody tr th {\n",
       "        vertical-align: top;\n",
       "    }\n",
       "\n",
       "    .dataframe thead th {\n",
       "        text-align: right;\n",
       "    }\n",
       "</style>\n",
       "<table border=\"1\" class=\"dataframe\">\n",
       "  <thead>\n",
       "    <tr style=\"text-align: right;\">\n",
       "      <th></th>\n",
       "      <th>ID</th>\n",
       "      <th>CR_PROD_CNT_IL</th>\n",
       "      <th>AMOUNT_RUB_CLO_PRC</th>\n",
       "      <th>APP_REGISTR_RGN_CODE</th>\n",
       "      <th>TURNOVER_DYNAMIC_IL_1M</th>\n",
       "      <th>LDEAL_YQZ_COM_GROUP</th>\n",
       "      <th>LDEAL_YQZ_CHRG_GROUP</th>\n",
       "      <th>AVG_PCT_MONTH_TO_PCLOSE_GROUP</th>\n",
       "      <th>MAX_PCLOSE_DATE_GROUP</th>\n",
       "      <th>AVG_PCT_DEBT_TO_DEAL_AMT_GROUP</th>\n",
       "      <th>...</th>\n",
       "      <th>CLNT_SETUP_TENOR</th>\n",
       "      <th>TURNOVER_DYNAMIC_PAYM_3M</th>\n",
       "      <th>TURNOVER_DYNAMIC_PAYM_1M</th>\n",
       "      <th>TRANS_AMOUNT_TENDENCY3M</th>\n",
       "      <th>TRANS_CNT_TENDENCY3M</th>\n",
       "      <th>REST_DYNAMIC_CC_1M</th>\n",
       "      <th>TURNOVER_DYNAMIC_CC_1M</th>\n",
       "      <th>REST_DYNAMIC_CC_3M</th>\n",
       "      <th>TURNOVER_DYNAMIC_CC_3M</th>\n",
       "      <th>TARGET</th>\n",
       "    </tr>\n",
       "  </thead>\n",
       "  <tbody>\n",
       "    <tr>\n",
       "      <th>0</th>\n",
       "      <td>146841</td>\n",
       "      <td>0</td>\n",
       "      <td>0.000000</td>\n",
       "      <td>неизвестна</td>\n",
       "      <td>0.0</td>\n",
       "      <td>неизвестна</td>\n",
       "      <td>неизвестна</td>\n",
       "      <td>неизвестна</td>\n",
       "      <td>неизвестна</td>\n",
       "      <td>неизвестна</td>\n",
       "      <td>...</td>\n",
       "      <td>1.593023</td>\n",
       "      <td>0.0</td>\n",
       "      <td>0.0</td>\n",
       "      <td>0.483032</td>\n",
       "      <td>0.406780</td>\n",
       "      <td>0.0</td>\n",
       "      <td>0.0</td>\n",
       "      <td>0.0</td>\n",
       "      <td>0.0</td>\n",
       "      <td>0</td>\n",
       "    </tr>\n",
       "    <tr>\n",
       "      <th>1</th>\n",
       "      <td>146842</td>\n",
       "      <td>0</td>\n",
       "      <td>0.041033</td>\n",
       "      <td>неизвестна</td>\n",
       "      <td>0.0</td>\n",
       "      <td>неизвестна</td>\n",
       "      <td>неизвестна</td>\n",
       "      <td>неизвестна</td>\n",
       "      <td>неизвестна</td>\n",
       "      <td>неизвестна</td>\n",
       "      <td>...</td>\n",
       "      <td>1.587647</td>\n",
       "      <td>0.0</td>\n",
       "      <td>0.0</td>\n",
       "      <td>0.394340</td>\n",
       "      <td>0.545455</td>\n",
       "      <td>0.0</td>\n",
       "      <td>0.0</td>\n",
       "      <td>0.0</td>\n",
       "      <td>0.0</td>\n",
       "      <td>0</td>\n",
       "    </tr>\n",
       "    <tr>\n",
       "      <th>2</th>\n",
       "      <td>146843</td>\n",
       "      <td>0</td>\n",
       "      <td>0.006915</td>\n",
       "      <td>неизвестна</td>\n",
       "      <td>0.0</td>\n",
       "      <td>неизвестна</td>\n",
       "      <td>неизвестна</td>\n",
       "      <td>неизвестна</td>\n",
       "      <td>неизвестна</td>\n",
       "      <td>неизвестна</td>\n",
       "      <td>...</td>\n",
       "      <td>1.587647</td>\n",
       "      <td>0.0</td>\n",
       "      <td>0.0</td>\n",
       "      <td>0.399342</td>\n",
       "      <td>0.297297</td>\n",
       "      <td>0.0</td>\n",
       "      <td>0.0</td>\n",
       "      <td>0.0</td>\n",
       "      <td>0.0</td>\n",
       "      <td>0</td>\n",
       "    </tr>\n",
       "    <tr>\n",
       "      <th>3</th>\n",
       "      <td>146844</td>\n",
       "      <td>0</td>\n",
       "      <td>0.000000</td>\n",
       "      <td>неизвестна</td>\n",
       "      <td>0.0</td>\n",
       "      <td>неизвестна</td>\n",
       "      <td>неизвестна</td>\n",
       "      <td>неизвестна</td>\n",
       "      <td>неизвестна</td>\n",
       "      <td>неизвестна</td>\n",
       "      <td>...</td>\n",
       "      <td>1.583333</td>\n",
       "      <td>0.0</td>\n",
       "      <td>0.0</td>\n",
       "      <td>0.552169</td>\n",
       "      <td>0.558824</td>\n",
       "      <td>0.0</td>\n",
       "      <td>0.0</td>\n",
       "      <td>0.0</td>\n",
       "      <td>0.0</td>\n",
       "      <td>0</td>\n",
       "    </tr>\n",
       "    <tr>\n",
       "      <th>4</th>\n",
       "      <td>146845</td>\n",
       "      <td>0</td>\n",
       "      <td>0.000000</td>\n",
       "      <td>неизвестна</td>\n",
       "      <td>0.0</td>\n",
       "      <td>неизвестна</td>\n",
       "      <td>неизвестна</td>\n",
       "      <td>неизвестна</td>\n",
       "      <td>неизвестна</td>\n",
       "      <td>неизвестна</td>\n",
       "      <td>...</td>\n",
       "      <td>1.583333</td>\n",
       "      <td>0.0</td>\n",
       "      <td>0.0</td>\n",
       "      <td>0.611610</td>\n",
       "      <td>0.620690</td>\n",
       "      <td>0.0</td>\n",
       "      <td>0.0</td>\n",
       "      <td>0.0</td>\n",
       "      <td>0.0</td>\n",
       "      <td>0</td>\n",
       "    </tr>\n",
       "  </tbody>\n",
       "</table>\n",
       "<p>5 rows × 105 columns</p>\n",
       "</div>"
      ],
      "text/plain": [
       "       ID  CR_PROD_CNT_IL  AMOUNT_RUB_CLO_PRC APP_REGISTR_RGN_CODE  \\\n",
       "0  146841               0            0.000000           неизвестна   \n",
       "1  146842               0            0.041033           неизвестна   \n",
       "2  146843               0            0.006915           неизвестна   \n",
       "3  146844               0            0.000000           неизвестна   \n",
       "4  146845               0            0.000000           неизвестна   \n",
       "\n",
       "   TURNOVER_DYNAMIC_IL_1M LDEAL_YQZ_COM_GROUP LDEAL_YQZ_CHRG_GROUP  \\\n",
       "0                     0.0          неизвестна           неизвестна   \n",
       "1                     0.0          неизвестна           неизвестна   \n",
       "2                     0.0          неизвестна           неизвестна   \n",
       "3                     0.0          неизвестна           неизвестна   \n",
       "4                     0.0          неизвестна           неизвестна   \n",
       "\n",
       "  AVG_PCT_MONTH_TO_PCLOSE_GROUP MAX_PCLOSE_DATE_GROUP  \\\n",
       "0                    неизвестна            неизвестна   \n",
       "1                    неизвестна            неизвестна   \n",
       "2                    неизвестна            неизвестна   \n",
       "3                    неизвестна            неизвестна   \n",
       "4                    неизвестна            неизвестна   \n",
       "\n",
       "  AVG_PCT_DEBT_TO_DEAL_AMT_GROUP  ... CLNT_SETUP_TENOR  \\\n",
       "0                     неизвестна  ...         1.593023   \n",
       "1                     неизвестна  ...         1.587647   \n",
       "2                     неизвестна  ...         1.587647   \n",
       "3                     неизвестна  ...         1.583333   \n",
       "4                     неизвестна  ...         1.583333   \n",
       "\n",
       "  TURNOVER_DYNAMIC_PAYM_3M TURNOVER_DYNAMIC_PAYM_1M TRANS_AMOUNT_TENDENCY3M  \\\n",
       "0                      0.0                      0.0                0.483032   \n",
       "1                      0.0                      0.0                0.394340   \n",
       "2                      0.0                      0.0                0.399342   \n",
       "3                      0.0                      0.0                0.552169   \n",
       "4                      0.0                      0.0                0.611610   \n",
       "\n",
       "  TRANS_CNT_TENDENCY3M REST_DYNAMIC_CC_1M TURNOVER_DYNAMIC_CC_1M  \\\n",
       "0             0.406780                0.0                    0.0   \n",
       "1             0.545455                0.0                    0.0   \n",
       "2             0.297297                0.0                    0.0   \n",
       "3             0.558824                0.0                    0.0   \n",
       "4             0.620690                0.0                    0.0   \n",
       "\n",
       "  REST_DYNAMIC_CC_3M TURNOVER_DYNAMIC_CC_3M TARGET  \n",
       "0                0.0                    0.0      0  \n",
       "1                0.0                    0.0      0  \n",
       "2                0.0                    0.0      0  \n",
       "3                0.0                    0.0      0  \n",
       "4                0.0                    0.0      0  \n",
       "\n",
       "[5 rows x 105 columns]"
      ]
     },
     "execution_count": 12,
     "metadata": {},
     "output_type": "execute_result"
    }
   ],
   "source": [
    "df.head(5)"
   ]
  },
  {
   "cell_type": "markdown",
   "metadata": {},
   "source": [
    "## Задание 1\n",
    "Назначь колонку `ID` индексом таблицы."
   ]
  },
  {
   "cell_type": "code",
   "execution_count": null,
   "metadata": {},
   "outputs": [],
   "source": []
  },
  {
   "cell_type": "markdown",
   "metadata": {},
   "source": [
    "## Задание 2\n",
    "Определимся, что является нашим `X`, а что является нашим `Y`. \n",
    "Для этого изучи документ, описывающий [датасет](../datasets/data_description.docs).\n",
    "Признаки сохрани в переменную `X`. А целевую переменную, которую мы будем предсказывать, в переменную `Y`\n",
    "Выведи размерность этих таблиц"
   ]
  },
  {
   "cell_type": "code",
   "execution_count": null,
   "metadata": {},
   "outputs": [],
   "source": []
  },
  {
   "cell_type": "markdown",
   "metadata": {},
   "source": [
    "## Задание 3\n",
    "Изначальный датасет содержит в себе как количественные, так и категориальные переменные. Раздели датасет. \n",
    "В этом поможет тип данных колонки. Категориальные переменные сохрани в переменную `X_cat`, а количественные в `X_num`. \n",
    "Выведи число категориальных и количественные переменных."
   ]
  },
  {
   "cell_type": "code",
   "execution_count": null,
   "metadata": {},
   "outputs": [],
   "source": []
  },
  {
   "cell_type": "markdown",
   "metadata": {},
   "source": [
    "## Задание 4\n",
    "Предобработаем количественные переменные. Проведи стандартизацию для признаков X_num.\n",
    "Сохрани результат стандартизации в переменную `X_num_scal`. \n",
    "Выведи среднее и стандартное отклонение по датасету для каждого признака после стандартизации. \n",
    "Значения округли для сотых."
   ]
  },
  {
   "cell_type": "code",
   "execution_count": null,
   "metadata": {},
   "outputs": [],
   "source": []
  },
  {
   "cell_type": "markdown",
   "metadata": {},
   "source": [
    "## Задание 5\n",
    "Алгоритмы машинного обучения плохо работают с категориальными признаками, поэтому их надо трансформировать. \n",
    "Прочитай про One-Hot Encoding подход к кодированию и примени его с нашим категориальным признаком, сохрани \n",
    "результат в переменную `X_cat_ohe`\n",
    "Перед этим удали признак `CLNT_JOB_POSITION` (у него слишком много значений).\n",
    "Выведи количество колонок таблицы `X_cat_ohe`"
   ]
  },
  {
   "cell_type": "code",
   "execution_count": null,
   "metadata": {},
   "outputs": [],
   "source": []
  },
  {
   "cell_type": "markdown",
   "metadata": {},
   "source": [
    "## Задание 6\n",
    "Объедини 2 предобработанных датасета. Результат запиши в переменную `X_ready`. Сохрани датасет в папку `datasets/data_prepared.csv`\n",
    "Подели получившийся датасет на `train` и `test`. Процент тестовой выборки: `20%`. Использовать параметр `random_state=21`.\n",
    "Выведи размерность обучающей выборки X_train.\n"
   ]
  },
  {
   "cell_type": "code",
   "execution_count": null,
   "metadata": {},
   "outputs": [],
   "source": []
  },
  {
   "cell_type": "markdown",
   "metadata": {},
   "source": [
    "## Задание 7 \n",
    "Обучи логистическую регрессию с параметрами: `solver='liblinear'`, `fit_intercept=False`, `penalty='l1'`, `random_state=21`. \n",
    "Посчитай `accuracy` модели на тестовой выборке, сравнив предсказанные значения с реальными.\n",
    "Выведи значение `accuracy` модели на тестовой выборке."
   ]
  },
  {
   "cell_type": "code",
   "execution_count": null,
   "metadata": {},
   "outputs": [],
   "source": []
  },
  {
   "cell_type": "markdown",
   "metadata": {},
   "source": [
    "## Задание 8\n",
    "Посчитай процент клиентов в тестовой выборке, у которых индикатор оттока равен `0`, и сравни с `accuracy`.\n",
    "Тебе что-то должно показаться подозрительным)"
   ]
  },
  {
   "cell_type": "code",
   "execution_count": null,
   "metadata": {},
   "outputs": [],
   "source": []
  },
  {
   "cell_type": "markdown",
   "metadata": {},
   "source": [
    "## Задание 9\n",
    "Построй график, на котором видны топ-10 самых важных факторов по мнению модели в абсолютном значении."
   ]
  },
  {
   "cell_type": "code",
   "execution_count": null,
   "metadata": {},
   "outputs": [],
   "source": []
  }
 ],
 "metadata": {
  "colab": {
   "collapsed_sections": [
    "KPtcdkJ3Pc4I"
   ],
   "name": "d02_task.ipynb",
   "provenance": []
  },
  "kernelspec": {
   "display_name": "Python 3 (ipykernel)",
   "language": "python",
   "name": "python3"
  },
  "language_info": {
   "codemirror_mode": {
    "name": "ipython",
    "version": 3
   },
   "file_extension": ".py",
   "mimetype": "text/x-python",
   "name": "python",
   "nbconvert_exporter": "python",
   "pygments_lexer": "ipython3",
   "version": "3.9.6"
  }
 },
 "nbformat": 4,
 "nbformat_minor": 4
}
